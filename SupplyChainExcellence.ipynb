{
  "nbformat": 4,
  "nbformat_minor": 0,
  "metadata": {
    "colab": {
      "provenance": [],
      "collapsed_sections": [
        "OywETxXr43I6",
        "qqnonWucKUxn",
        "RC817-ixBuUr"
      ],
      "authorship_tag": "ABX9TyOBbYrvhvE0HDdokt2jZqYt",
      "include_colab_link": true
    },
    "kernelspec": {
      "name": "python3",
      "display_name": "Python 3"
    },
    "language_info": {
      "name": "python"
    }
  },
  "cells": [
    {
      "cell_type": "markdown",
      "metadata": {
        "id": "view-in-github",
        "colab_type": "text"
      },
      "source": [
        "<a href=\"https://colab.research.google.com/github/Pakpako95/Supply-Chain-Excellence/blob/main/SupplyChainExcellence.ipynb\" target=\"_parent\"><img src=\"https://colab.research.google.com/assets/colab-badge.svg\" alt=\"Open In Colab\"/></a>"
      ]
    },
    {
      "cell_type": "markdown",
      "source": [
        "## **Supply Chain Excellence Specialization**"
      ],
      "metadata": {
        "id": "QQQ9CTBL4QEJ"
      }
    },
    {
      "cell_type": "markdown",
      "source": [
        "### **Course 1. Supply Chain Excellence**"
      ],
      "metadata": {
        "id": "KcQF9cPV4Vjr"
      }
    },
    {
      "cell_type": "markdown",
      "source": [
        "#### **💠Theme 1. The Flow of Products in the Supply Chain**"
      ],
      "metadata": {
        "id": "OywETxXr43I6"
      }
    },
    {
      "cell_type": "markdown",
      "source": [
        "The Primary Flows in Supply Chain are: Information, Finances & Products."
      ],
      "metadata": {
        "id": "LNP2RXNV5BHw"
      }
    },
    {
      "cell_type": "markdown",
      "source": [
        "**Product Flow Goals: Efficiency**\n",
        "\n",
        "Transforming the Product to its final form with the minimum amount of resources necessary.\n",
        "\n",
        "* Supply Chain = Transformation\n",
        "* Resources (Finances, Materials, Labor, Equipment).\n",
        "\n",
        "\n"
      ],
      "metadata": {
        "id": "NlHGE2ko5o8C"
      }
    },
    {
      "cell_type": "markdown",
      "source": [
        "**End-to-End Efficiency**\n",
        "\n",
        "* It is a long race... you must pace yourself.\n",
        "* Think outside the box (The whole supply chain matters).\n",
        "* You can only really control your company.\n",
        "\n"
      ],
      "metadata": {
        "id": "Bm0GkZJh7mMu"
      }
    },
    {
      "cell_type": "markdown",
      "source": [
        "**How to Achieve Efficiency?**\n",
        "\n",
        "1. **Define:** How would you measure efficiency in your supply chain?\n",
        "2. **Measure:** Identify metrics that can illustrate supply chain efficiency.\n",
        "3. **Analyze:** Look for improvements\n",
        "4. **Implement:** Make changes to your SC.\n",
        "5. **Control:** Ensure the improvements are stable."
      ],
      "metadata": {
        "id": "wNolegTj78gW"
      }
    },
    {
      "cell_type": "markdown",
      "source": [
        "**Product Flow Goals: Flexibility**\n",
        "\n",
        "* The ability to react and respond to unanticipated changes in customer demand.\n",
        "* Important: customer demand is always uncertain.\n",
        "* Flexibility as a competitive advantage.\n"
      ],
      "metadata": {
        "id": "jDNtw2p68qqn"
      }
    },
    {
      "cell_type": "markdown",
      "source": [
        "**How to Achieve Flexibility**\n",
        "\n",
        "1. Speed.\n",
        "2. Interchangeability.\n",
        "3. Design.\n",
        "\n"
      ],
      "metadata": {
        "id": "GBoDK81V9Jv7"
      }
    },
    {
      "cell_type": "markdown",
      "source": [
        "**Product Flow Goals: Resilience**\n",
        "\n",
        "The Resilient Supply Chain. A resilient Supply Chain is one that can confront risks.\n",
        "\n",
        "* The ability to withstand disruptions to the supply chain.\n",
        "* 2 Factors:\n",
        " - Impact of Disruption to be noticed.\n",
        " - Ability to Recover.\n",
        "\n",
        "* Main Supply Chain Design consideration.\n",
        "\n"
      ],
      "metadata": {
        "id": "SRIiiBdFH1mc"
      }
    },
    {
      "cell_type": "markdown",
      "source": [
        "#### **💠Theme 2. The Lean Supply Chain**"
      ],
      "metadata": {
        "id": "qqnonWucKUxn"
      }
    },
    {
      "cell_type": "markdown",
      "source": [
        "**Lean Principles: Overview**\n",
        "\n",
        "**1. Jidoka:**\n",
        "   * Error proofing\n",
        "   * In-station quality\n",
        "   * Root Cause\n",
        "\n",
        "**2. Heijunka (Stability):**\n",
        "   * Production Leveling\n",
        "   * Synchronize supply chain\n",
        "\n",
        "**3. Hoishin Planning:**\n",
        "   * Customer Focus\n",
        "   * Standardization\n",
        "\n",
        "**4. JIT:**\n",
        "   * Continuous Flow\n",
        "   * Pull System\n",
        "   * Quick Changeover"
      ],
      "metadata": {
        "id": "b6sTNkZoKjij"
      }
    },
    {
      "cell_type": "markdown",
      "source": [
        "Lean follows the rythm of the customer.\n",
        "\n",
        "The only sure thing about forecasts is that they are wrong.\n",
        "\n",
        "_________"
      ],
      "metadata": {
        "id": "7mYaMzSJOPJV"
      }
    },
    {
      "cell_type": "markdown",
      "source": [
        "**Lean Thinking Reading by Womak and Jones**\n",
        "\n",
        "LEAN THINKING: Banish Waste and Create Wealth in Your Corporation."
      ],
      "metadata": {
        "id": "Uj8yxPimVnBZ"
      }
    },
    {
      "cell_type": "markdown",
      "source": [
        "Ther is a better way to organize and manage customer relations, supply chain, product development and production operations.\n",
        "\n",
        "This is labeled like lean production because it does more and more with less and less."
      ],
      "metadata": {
        "id": "h6qNu0uAVvHF"
      }
    },
    {
      "cell_type": "markdown",
      "source": [
        "**Lean thinking can be summarized in five principles:**\n",
        "\n",
        "1. Precisely specify value by specific product.\n",
        "2. Identify the value stream for each product.\n",
        "3. Make value flow without interruptions.\n",
        "4. Let customer pull value from the producer.\n",
        "5. Pursue perfection.\n",
        "\n"
      ],
      "metadata": {
        "id": "UHzEIe5DWOaB"
      }
    },
    {
      "cell_type": "markdown",
      "source": [
        "**Lean Thinking versus Muda**\n",
        "\n",
        "Muda means Waste. Waste is any human activity which absorbs resources but creates no value. Taiichi Ohno identified the first seven types of muda: *Transportation*, *Inventory*, *Motion*, *Waits*, *Overproduction*, *Overprocessing*, *Defects*, *Skills*.\n",
        "\n",
        "Antidote to muda: lean thinking. Lean provides a way to do more with less. Less human effort, less equipment, less time, while coming closer to providing customers with exactly what they want.\n",
        "\n",
        "Lean Thinking also provides a way to work more satisfying by providing immediate feeedback on efforts to convert muda into value. It provides a way to create new work rather than simply destroy jobs.\n",
        "\n"
      ],
      "metadata": {
        "id": "F7Amld0elUAW"
      }
    },
    {
      "cell_type": "markdown",
      "source": [
        "**Lean Principles: The Seven Wastes**\n",
        "\n",
        "1. **Overproduction**\n",
        "2. **Inventory**\n",
        "3. **Motion**\n",
        "4. **Defects**\n",
        "5. **Over-processing**\n",
        "6. **Waiting**\n",
        "7. **Transport**"
      ],
      "metadata": {
        "id": "llDyRDKn7kuA"
      }
    },
    {
      "cell_type": "markdown",
      "source": [
        "**Lean Principles: Just In Time**\n",
        "\n",
        "| **Issue**              | **Traditional**        | **Just-in-Time**      |\n",
        "|:----------------------:|:----------------------:|:---------------------:|\n",
        "| *Inventory*            | ‘Appropriate’          | Waste                 |\n",
        "| *Lead Time*            | ‘Appropriate’          | Minimal               |\n",
        "| *Batch Size*           | Optimized (EOQ)        | Ideally One           |\n",
        "| *Quality*              | ‘Acceptable’ Level     | Perfection            |\n",
        "| *Planning*             | Push                   | Pull                  |\n",
        "| *Optimization Focus*   | Each unit              | Entire system         |\n",
        "| *Focus*                | Economies of Scale     | System Efficiency     |\n"
      ],
      "metadata": {
        "id": "eAolY7At8YQs"
      }
    },
    {
      "cell_type": "markdown",
      "source": [
        "**Lean Principles: Jidoka (error proofing)**\n",
        "\n",
        "You build your entire system designed to avoid human error.\n",
        "\n",
        "* Integrate quality within each process.\n",
        "* Detect abnormal condition.\n",
        "* Immediately stop work and fix it.\n",
        "* Make it impossible to install the wrong parts."
      ],
      "metadata": {
        "id": "ZuRsdYfJ_cSn"
      }
    },
    {
      "cell_type": "markdown",
      "source": [
        "___________"
      ],
      "metadata": {
        "id": "vumXMLlGx44u"
      }
    },
    {
      "cell_type": "markdown",
      "source": [
        "#### **💠Theme 3. The Agile Supply Chain**"
      ],
      "metadata": {
        "id": "RC817-ixBuUr"
      }
    },
    {
      "cell_type": "markdown",
      "source": [
        "**Agility: The Agile Supply Chain**\n",
        "\n",
        "* Speed\n",
        "* Flexibility\n",
        "* Experimentation"
      ],
      "metadata": {
        "id": "Sofd6QEfBx4F"
      }
    },
    {
      "cell_type": "markdown",
      "source": [
        "**Zara's Supply Chain**\n",
        "\n",
        "Traditional Supply Chain Manager looks to gain visibility to create a framework through which purchasing decisions can be made. The primary tool is the rulebook, and decisions must be made in accordance with procurement policy, any deviation will be penalized. This conducts to make inflexible and brittle supply chain, slow to adapt and easily affected by alterations in demand and/or supply.\n",
        "\n",
        "Some tips to build an agile supply chain:\n",
        "\n",
        "1. **Build an agile team.** Agile method is aligned to customer needs prioritizing fast output, not processes and frameworks.\n",
        "\n",
        "2. **Reward efficiency - and tolerate failure.** Experimentation is the heart of agility, experiment only arises from the courage to risk. Not focus on comfort. \"Move fast and break things\"\n",
        "\n",
        "3. **Build agile and smart supplier contracts**\n"
      ],
      "metadata": {
        "id": "l0u-L5X1Cz8V"
      }
    },
    {
      "cell_type": "markdown",
      "source": [
        "___________"
      ],
      "metadata": {
        "id": "6ucCY4Ltxla4"
      }
    },
    {
      "cell_type": "markdown",
      "source": [
        "**Agility: Implement Agility**"
      ],
      "metadata": {
        "id": "qIo4NtQ7Fg5L"
      }
    },
    {
      "cell_type": "markdown",
      "source": [
        "**Implement Speed**\n",
        "1. **Source**\n",
        "   * Faster Sourcing\n",
        "   * Reduce Wait Time\n",
        "2. **Make**\n",
        "   * Faster Manufacturing\n",
        "   * Reduce Wait Time\n",
        "3. **Deliver**\n",
        "   * Fast Deliveries\n",
        "   * Reduce Wait Time"
      ],
      "metadata": {
        "id": "UV8R4pkdFlTk"
      }
    },
    {
      "cell_type": "markdown",
      "source": [
        "**Implement Flexibility**\n",
        "\n",
        "\n",
        "| **Teams**        |                         |\n",
        "|------------------|-------------------------|\n",
        "| →                | Short Runs              |\n",
        "| →                | Focus on Speed          |\n",
        "| →                | Cross Training          |\n",
        "| →                | Changeovers             |\n",
        "\n",
        "\n"
      ],
      "metadata": {
        "id": "9Q6t25elGD7R"
      }
    },
    {
      "cell_type": "markdown",
      "source": [
        "**Implement Experimentation**"
      ],
      "metadata": {
        "id": "vLGZut7wGqCg"
      }
    },
    {
      "cell_type": "markdown",
      "source": [
        "1. Strive for Efficiency (while accepting Speed and Flexibility)\n",
        "   * Do More with Less\n",
        "   * Refine Processes\n",
        "2. Tolerate Failure\n",
        "   * Encourage Process Improvement\n",
        "   * Reward Creativity\n",
        "3. Culture of Innovation\n",
        "   * Promote Fresh Ideas\n",
        "  "
      ],
      "metadata": {
        "id": "Lh2rIbWwF6Ss"
      }
    },
    {
      "cell_type": "markdown",
      "source": [
        "___________"
      ],
      "metadata": {
        "id": "CuenUxB4xrOO"
      }
    },
    {
      "cell_type": "markdown",
      "source": [
        "**Agility:** **Agile versus Efficient**\n",
        "\n",
        "Is Agile Really Inefficient?\n",
        "\n",
        "Can we Really Afford to not be Agile?\n"
      ],
      "metadata": {
        "id": "IqrIgZFDqGct"
      }
    },
    {
      "cell_type": "markdown",
      "source": [
        "**The Triple-A Supply Chain**\n",
        "\n",
        "\n",
        "1. **Agile**. React speedily to sudden changes in demand or supply.\n",
        "2. **Adaptable**. Adapt over time as market structures and strategies evolve.\n",
        "3. **Aligned**. Align interests of every stakeholder involved in the supply network.\n",
        "\n",
        "https://hbr.org/2004/10/the-triple-a-supply-chain\n",
        "\n"
      ],
      "metadata": {
        "id": "1w7MgejQq2-h"
      }
    },
    {
      "cell_type": "markdown",
      "source": [
        "Companies obsession with speed and costs also causes supply chains to break down during the launch of new products."
      ],
      "metadata": {
        "id": "Oucoa_hhtdKs"
      }
    },
    {
      "cell_type": "markdown",
      "source": [
        "Efficient supply chains often become uncompetitive because they don’t adapt to changes in the structures of markets"
      ],
      "metadata": {
        "id": "bLNpqi2Xt4ag"
      }
    },
    {
      "cell_type": "markdown",
      "source": [
        "Supply chain efficiency is necessary, but it isn’t enough to ensure that firms will do better than their rivals. Only those companies that build agile, adaptable, and aligned supply chains get ahead of the competition."
      ],
      "metadata": {
        "id": "TnTKTvj3t5Ul"
      }
    },
    {
      "cell_type": "markdown",
      "source": [
        "Great companies create supply chains that respond to sudden and unexpected changes in markets."
      ],
      "metadata": {
        "id": "3mtKQSpUuQ0g"
      }
    },
    {
      "cell_type": "markdown",
      "source": [
        "Agile supply chains recover quickly from sudden setbacks."
      ],
      "metadata": {
        "id": "C2URgKpOufKM"
      }
    },
    {
      "cell_type": "markdown",
      "source": [
        "**Six rules of agility in Supply Chain**\n",
        "\n",
        "1. Provide data on changes in supply and demand to partners continuosly.\n",
        "2. Develop collaborative relationships with suppliers abd customers to design and redesign processes, components, and products (and prepare backup plans).\n",
        "3. Design products with common parts and processes initially and differ susbtantially only by the end of the production process. (Postponement strategy).\n",
        "4. Keep a small inventory of inexpensive, nonbuly components that are often cause of bottlenecks.\n",
        "5. Build a dependable logistics system that enable your company to regroup quickly in respondse to unexpected needs.\n",
        "6. Put together a team that knows how to invoke backup plans.\n"
      ],
      "metadata": {
        "id": "LXzJHAUQwEmT"
      }
    },
    {
      "cell_type": "markdown",
      "source": [
        "Adaptation can be tough, but it’s critical in developing a supply chain that delivers a sustainable advantage."
      ],
      "metadata": {
        "id": "4ojO55mEza1U"
      }
    },
    {
      "cell_type": "markdown",
      "source": [
        "he best supply chains identify structural shifts, by capturing the latest data, filtering out noise, and tracking key patterns. They then relocate facilities, change sources of supplies, and, if possible, outsource manufacturing."
      ],
      "metadata": {
        "id": "y6lRecna01Q3"
      }
    },
    {
      "cell_type": "markdown",
      "source": [
        "Adaptation needn’t be just a defensive tactic. Companies that adapt supply chains when they modify strategies often succeed in launching new products or breaking into new markets."
      ],
      "metadata": {
        "id": "SVCcqUkt1L9K"
      }
    },
    {
      "cell_type": "markdown",
      "source": [
        "Smart companies tailor supply chains to the nature of markets for products."
      ],
      "metadata": {
        "id": "dltMk8m61fQv"
      }
    },
    {
      "cell_type": "markdown",
      "source": [
        "By mapping either or both of those characteristics to supply chain partners, manufacturing network, and distribution system, companies can develop optimal supply chains for every product or service they offer."
      ],
      "metadata": {
        "id": "6StGBJOw2ro5"
      }
    },
    {
      "cell_type": "markdown",
      "source": [
        "Building an adaptable supply chain requires two key components: the ability to spot trends and the capability to change supply networks. To identify future patterns, it’s necessary to follow some guidelines:\n",
        "\n",
        "* Track economic changes\n",
        "* Decipher the needs of your ultimate consumers\n",
        "\n",
        "At the same time, companies must retain the option to alter supply chains. To do that, they must do two things:\n",
        "\n",
        "* They must develop new suppliers that complement existing ones\n",
        "* They must ensure that product design teams are aware of the supply chain implications of their designs\n",
        "\n",
        "\n",
        "\n"
      ],
      "metadata": {
        "id": "SpyK1gBa2sYN"
      }
    },
    {
      "cell_type": "markdown",
      "source": [
        "What is needed is fresh attitude and a new culture to get their supply chains to deliver triple-A performance. Companies must give up the efficiency mind-set, which is counterproductive; be prepared to keep changing networks; and, instead of looking out for their interests alone, take responsibility for the entire chain"
      ],
      "metadata": {
        "id": "P3Aq-uVq6j8s"
      }
    },
    {
      "cell_type": "markdown",
      "source": [
        "#### **💠Theme 4. The Resilient Supply Chain**"
      ],
      "metadata": {
        "id": "eFxgJhRf73vb"
      }
    },
    {
      "cell_type": "markdown",
      "source": [
        "**Risk: The Resilient Supply Chain**\n",
        "\n",
        "On the one hand it has the ability to resist disruption, and in the other hand the capability to recover quickly.\n",
        "\n",
        "Disruption Timeline\n",
        "\n",
        "Avoid -> Contain -> Stabilize -> Return\n",
        "\n",
        "_________"
      ],
      "metadata": {
        "id": "hRHkjLBz77oS"
      }
    },
    {
      "cell_type": "markdown",
      "source": [
        "**Building a Resilient Supply Chain**\n",
        "\n",
        "https://hbr.org/2007/08/building-a-resilient-supply-ch\n",
        "\n",
        "Threats to the supply chain are present always. No sure way exists for overcoming all such risks, but it is possible to cope better than others with prospect and manifestation of unquantifiable risk. The common trait is *resilience*.\n",
        "\n",
        "Resilience means assume the ability to manage risks with the best position to gain advantage from disruptions.\n",
        "\n",
        "**Achieving Resilience:** It is possible to get resilience by 3 main ways, considering different structures and implications.\n",
        "\n",
        "* **Redundancy.** This is an option to build resilience, but it is not efficient. This way is based on hold extra inventory, maintain low capacity utilization, have many suppliers, etc.\n",
        "\n",
        "* **Flexibility.** To get flexibility, the company should take the following actions:\n",
        "\n",
        "     * **Adopt standardized processes.** Master the ability to replicate production using interchangeable and generic parts in the majority of products, relying on similar or identical plant designs and processes, and cross-training.\n",
        "     * **Use concurrent instead of sequential processes.** Separate processes to control each one and avoid dependency. Execute key activities in parallel to accelerate response and recovery\n",
        "     * **Plan to postpone.** Design products and processes for maximum postponement of as many operations and decisions as possible in the supply chain.\n",
        "     * **Align procurement strategy with supplier relationships.** By knowing each trading partner intimately, a company can better monitor the group to detect potential problems.\n",
        "\n",
        "* **Cultural Change.**\n",
        "\n",
        "     * **Continuous communication among informed employees.** Keep all personnel aware of the strategic goals, tactical factors, and day-by-day pulse of the business.\n",
        "     * **Distributed power.** Teams and individuals are empowered to take necessary actions.\n",
        "     * **Passion for work.** Engender a sense of the greater good in the employees.\n",
        "     * **Conditioning for disruptions.** Normalize disruptions through continuous small-scale operational challenges.\n",
        "\n",
        "The rewards are substantial. It's important not forget to increase competitiveness when disruption arrives.\n",
        "\n",
        "_______________\n"
      ],
      "metadata": {
        "id": "W5gH0NDSbGLP"
      }
    },
    {
      "cell_type": "markdown",
      "source": [
        "**Risk: Supply Chain Risk Factors**"
      ],
      "metadata": {
        "id": "NLuvQY8Zk2B7"
      }
    },
    {
      "cell_type": "markdown",
      "source": [
        "**Procurement Risk:**\n",
        "\n",
        "* **Suppliers, Operations and Customers** are affected mainly by these type of factors:\n",
        "   1. Natural\n",
        "   2. Political\n",
        "   3. Process\n",
        "   4. Financial\n"
      ],
      "metadata": {
        "id": "JovvKWnlkxSv"
      }
    },
    {
      "cell_type": "markdown",
      "source": [
        "### **Course 2. Sourcing Excellence**"
      ],
      "metadata": {
        "id": "cqIcStXq4hQX"
      }
    },
    {
      "cell_type": "markdown",
      "source": [
        "### **Course 3. Operations Excellence**"
      ],
      "metadata": {
        "id": "3Vwj35eC4hVq"
      }
    },
    {
      "cell_type": "markdown",
      "source": [
        "### **Course 4. Logistics Excellence**"
      ],
      "metadata": {
        "id": "IwqupV_Y4hah"
      }
    },
    {
      "cell_type": "markdown",
      "source": [
        "### **Course 5. Supply Chain Excellence Capstone**"
      ],
      "metadata": {
        "id": "Xp0_N6Oj4uGY"
      }
    }
  ]
}