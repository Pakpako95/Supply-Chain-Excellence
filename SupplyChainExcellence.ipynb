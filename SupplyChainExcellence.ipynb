{
  "nbformat": 4,
  "nbformat_minor": 0,
  "metadata": {
    "colab": {
      "provenance": [],
      "collapsed_sections": [
        "W5K__-xpyx0J",
        "OywETxXr43I6",
        "qqnonWucKUxn",
        "RC817-ixBuUr",
        "eFxgJhRf73vb",
        "4tTVdplGzGKd",
        "fAJ68kspzMLs",
        "mClLVMYw5zj8",
        "xnDXISeRmZJQ",
        "jxjqCgga-JHC",
        "WpvieGIG-ZjJ"
      ],
      "authorship_tag": "ABX9TyNq9YoY9nzVMLkFPeDVvBug",
      "include_colab_link": true
    },
    "kernelspec": {
      "name": "python3",
      "display_name": "Python 3"
    },
    "language_info": {
      "name": "python"
    }
  },
  "cells": [
    {
      "cell_type": "markdown",
      "metadata": {
        "id": "view-in-github",
        "colab_type": "text"
      },
      "source": [
        "<a href=\"https://colab.research.google.com/github/Pakpako95/Supply-Chain-Excellence/blob/main/SupplyChainExcellence.ipynb\" target=\"_parent\"><img src=\"https://colab.research.google.com/assets/colab-badge.svg\" alt=\"Open In Colab\"/></a>"
      ]
    },
    {
      "cell_type": "markdown",
      "source": [
        "# **🌐 Supply Chain Excellence Specialization**"
      ],
      "metadata": {
        "id": "QQQ9CTBL4QEJ"
      }
    },
    {
      "cell_type": "markdown",
      "source": [
        "## **🟢Course 1. Supply Chain Excellence**"
      ],
      "metadata": {
        "id": "KcQF9cPV4Vjr"
      }
    },
    {
      "cell_type": "markdown",
      "source": [
        "### **◽Module 1. Managing Product Flow**"
      ],
      "metadata": {
        "id": "W5K__-xpyx0J"
      }
    },
    {
      "cell_type": "markdown",
      "source": [
        "#### **💠Theme 1. The Flow of Products in the Supply Chain**"
      ],
      "metadata": {
        "id": "OywETxXr43I6"
      }
    },
    {
      "cell_type": "markdown",
      "source": [
        "The Primary Flows in Supply Chain are: Information, Finances & Products."
      ],
      "metadata": {
        "id": "LNP2RXNV5BHw"
      }
    },
    {
      "cell_type": "markdown",
      "source": [
        "**Product Flow Goals: Efficiency**\n",
        "\n",
        "Transforming the Product to its final form with the minimum amount of resources necessary.\n",
        "\n",
        "* Supply Chain = Transformation\n",
        "* Resources (Finances, Materials, Labor, Equipment).\n",
        "\n",
        "\n"
      ],
      "metadata": {
        "id": "NlHGE2ko5o8C"
      }
    },
    {
      "cell_type": "markdown",
      "source": [
        "**End-to-End Efficiency**\n",
        "\n",
        "* It is a long race... you must pace yourself.\n",
        "* Think outside the box (The whole supply chain matters).\n",
        "* You can only really control your company.\n",
        "\n"
      ],
      "metadata": {
        "id": "Bm0GkZJh7mMu"
      }
    },
    {
      "cell_type": "markdown",
      "source": [
        "**How to Achieve Efficiency?**\n",
        "\n",
        "1. **Define:** How would you measure efficiency in your supply chain?\n",
        "2. **Measure:** Identify metrics that can illustrate supply chain efficiency.\n",
        "3. **Analyze:** Look for improvements\n",
        "4. **Implement:** Make changes to your SC.\n",
        "5. **Control:** Ensure the improvements are stable."
      ],
      "metadata": {
        "id": "wNolegTj78gW"
      }
    },
    {
      "cell_type": "markdown",
      "source": [
        "**Product Flow Goals: Flexibility**\n",
        "\n",
        "* The ability to react and respond to unanticipated changes in customer demand.\n",
        "* Important: customer demand is always uncertain.\n",
        "* Flexibility as a competitive advantage.\n"
      ],
      "metadata": {
        "id": "jDNtw2p68qqn"
      }
    },
    {
      "cell_type": "markdown",
      "source": [
        "**How to Achieve Flexibility**\n",
        "\n",
        "1. Speed.\n",
        "2. Interchangeability.\n",
        "3. Design.\n",
        "\n"
      ],
      "metadata": {
        "id": "GBoDK81V9Jv7"
      }
    },
    {
      "cell_type": "markdown",
      "source": [
        "**Product Flow Goals: Resilience**\n",
        "\n",
        "The Resilient Supply Chain. A resilient Supply Chain is one that can confront risks.\n",
        "\n",
        "* The ability to withstand disruptions to the supply chain.\n",
        "* 2 Factors:\n",
        " - Impact of Disruption to be noticed.\n",
        " - Ability to Recover.\n",
        "\n",
        "* Main Supply Chain Design consideration.\n",
        "\n"
      ],
      "metadata": {
        "id": "SRIiiBdFH1mc"
      }
    },
    {
      "cell_type": "markdown",
      "source": [
        "#### **💠Theme 2. The Lean Supply Chain**"
      ],
      "metadata": {
        "id": "qqnonWucKUxn"
      }
    },
    {
      "cell_type": "markdown",
      "source": [
        "**Lean Principles: Overview**\n",
        "\n",
        "**1. Jidoka:**\n",
        "   * Error proofing\n",
        "   * In-station quality\n",
        "   * Root Cause\n",
        "\n",
        "**2. Heijunka (Stability):**\n",
        "   * Production Leveling\n",
        "   * Synchronize supply chain\n",
        "\n",
        "**3. Hoishin Planning:**\n",
        "   * Customer Focus\n",
        "   * Standardization\n",
        "\n",
        "**4. JIT:**\n",
        "   * Continuous Flow\n",
        "   * Pull System\n",
        "   * Quick Changeover"
      ],
      "metadata": {
        "id": "b6sTNkZoKjij"
      }
    },
    {
      "cell_type": "markdown",
      "source": [
        "Lean follows the rythm of the customer.\n",
        "\n",
        "The only sure thing about forecasts is that they are wrong.\n",
        "\n",
        "_________"
      ],
      "metadata": {
        "id": "7mYaMzSJOPJV"
      }
    },
    {
      "cell_type": "markdown",
      "source": [
        "**Lean Thinking Reading by Womak and Jones**\n",
        "\n",
        "LEAN THINKING: Banish Waste and Create Wealth in Your Corporation."
      ],
      "metadata": {
        "id": "Uj8yxPimVnBZ"
      }
    },
    {
      "cell_type": "markdown",
      "source": [
        "Ther is a better way to organize and manage customer relations, supply chain, product development and production operations.\n",
        "\n",
        "This is labeled like lean production because it does more and more with less and less."
      ],
      "metadata": {
        "id": "h6qNu0uAVvHF"
      }
    },
    {
      "cell_type": "markdown",
      "source": [
        "**Lean thinking can be summarized in five principles:**\n",
        "\n",
        "1. Precisely specify value by specific product.\n",
        "2. Identify the value stream for each product.\n",
        "3. Make value flow without interruptions.\n",
        "4. Let customer pull value from the producer.\n",
        "5. Pursue perfection.\n",
        "\n"
      ],
      "metadata": {
        "id": "UHzEIe5DWOaB"
      }
    },
    {
      "cell_type": "markdown",
      "source": [
        "**Lean Thinking versus Muda**\n",
        "\n",
        "Muda means Waste. Waste is any human activity which absorbs resources but creates no value. Taiichi Ohno identified the first seven types of muda: *Transportation*, *Inventory*, *Motion*, *Waits*, *Overproduction*, *Overprocessing*, *Defects*, *Skills*.\n",
        "\n",
        "Antidote to muda: lean thinking. Lean provides a way to do more with less. Less human effort, less equipment, less time, while coming closer to providing customers with exactly what they want.\n",
        "\n",
        "Lean Thinking also provides a way to work more satisfying by providing immediate feeedback on efforts to convert muda into value. It provides a way to create new work rather than simply destroy jobs.\n",
        "\n"
      ],
      "metadata": {
        "id": "F7Amld0elUAW"
      }
    },
    {
      "cell_type": "markdown",
      "source": [
        "**Lean Principles: The Seven Wastes**\n",
        "\n",
        "1. **Overproduction**\n",
        "2. **Inventory**\n",
        "3. **Motion**\n",
        "4. **Defects**\n",
        "5. **Over-processing**\n",
        "6. **Waiting**\n",
        "7. **Transport**"
      ],
      "metadata": {
        "id": "llDyRDKn7kuA"
      }
    },
    {
      "cell_type": "markdown",
      "source": [
        "**Lean Principles: Just In Time**\n",
        "\n",
        "| **Issue**              | **Traditional**        | **Just-in-Time**      |\n",
        "|:----------------------:|:----------------------:|:---------------------:|\n",
        "| *Inventory*            | ‘Appropriate’          | Waste                 |\n",
        "| *Lead Time*            | ‘Appropriate’          | Minimal               |\n",
        "| *Batch Size*           | Optimized (EOQ)        | Ideally One           |\n",
        "| *Quality*              | ‘Acceptable’ Level     | Perfection            |\n",
        "| *Planning*             | Push                   | Pull                  |\n",
        "| *Optimization Focus*   | Each unit              | Entire system         |\n",
        "| *Focus*                | Economies of Scale     | System Efficiency     |\n"
      ],
      "metadata": {
        "id": "eAolY7At8YQs"
      }
    },
    {
      "cell_type": "markdown",
      "source": [
        "**Lean Principles: Jidoka (error proofing)**\n",
        "\n",
        "You build your entire system designed to avoid human error.\n",
        "\n",
        "* Integrate quality within each process.\n",
        "* Detect abnormal condition.\n",
        "* Immediately stop work and fix it.\n",
        "* Make it impossible to install the wrong parts."
      ],
      "metadata": {
        "id": "ZuRsdYfJ_cSn"
      }
    },
    {
      "cell_type": "markdown",
      "source": [
        "___________"
      ],
      "metadata": {
        "id": "vumXMLlGx44u"
      }
    },
    {
      "cell_type": "markdown",
      "source": [
        "#### **💠Theme 3. The Agile Supply Chain**"
      ],
      "metadata": {
        "id": "RC817-ixBuUr"
      }
    },
    {
      "cell_type": "markdown",
      "source": [
        "**Agility: The Agile Supply Chain**\n",
        "\n",
        "* Speed\n",
        "* Flexibility\n",
        "* Experimentation"
      ],
      "metadata": {
        "id": "Sofd6QEfBx4F"
      }
    },
    {
      "cell_type": "markdown",
      "source": [
        "**Zara's Supply Chain**\n",
        "\n",
        "Traditional Supply Chain Manager looks to gain visibility to create a framework through which purchasing decisions can be made. The primary tool is the rulebook, and decisions must be made in accordance with procurement policy, any deviation will be penalized. This conducts to make inflexible and brittle supply chain, slow to adapt and easily affected by alterations in demand and/or supply.\n",
        "\n",
        "Some tips to build an agile supply chain:\n",
        "\n",
        "1. **Build an agile team.** Agile method is aligned to customer needs prioritizing fast output, not processes and frameworks.\n",
        "\n",
        "2. **Reward efficiency - and tolerate failure.** Experimentation is the heart of agility, experiment only arises from the courage to risk. Not focus on comfort. \"Move fast and break things\"\n",
        "\n",
        "3. **Build agile and smart supplier contracts**\n"
      ],
      "metadata": {
        "id": "l0u-L5X1Cz8V"
      }
    },
    {
      "cell_type": "markdown",
      "source": [
        "___________"
      ],
      "metadata": {
        "id": "6ucCY4Ltxla4"
      }
    },
    {
      "cell_type": "markdown",
      "source": [
        "**Agility: Implement Agility**"
      ],
      "metadata": {
        "id": "qIo4NtQ7Fg5L"
      }
    },
    {
      "cell_type": "markdown",
      "source": [
        "**Implement Speed**\n",
        "1. **Source**\n",
        "   * Faster Sourcing\n",
        "   * Reduce Wait Time\n",
        "2. **Make**\n",
        "   * Faster Manufacturing\n",
        "   * Reduce Wait Time\n",
        "3. **Deliver**\n",
        "   * Fast Deliveries\n",
        "   * Reduce Wait Time"
      ],
      "metadata": {
        "id": "UV8R4pkdFlTk"
      }
    },
    {
      "cell_type": "markdown",
      "source": [
        "**Implement Flexibility**\n",
        "\n",
        "\n",
        "| **Teams**        |                         |\n",
        "|------------------|-------------------------|\n",
        "| →                | Short Runs              |\n",
        "| →                | Focus on Speed          |\n",
        "| →                | Cross Training          |\n",
        "| →                | Changeovers             |\n",
        "\n",
        "\n"
      ],
      "metadata": {
        "id": "9Q6t25elGD7R"
      }
    },
    {
      "cell_type": "markdown",
      "source": [
        "**Implement Experimentation**"
      ],
      "metadata": {
        "id": "vLGZut7wGqCg"
      }
    },
    {
      "cell_type": "markdown",
      "source": [
        "1. Strive for Efficiency (while accepting Speed and Flexibility)\n",
        "   * Do More with Less\n",
        "   * Refine Processes\n",
        "2. Tolerate Failure\n",
        "   * Encourage Process Improvement\n",
        "   * Reward Creativity\n",
        "3. Culture of Innovation\n",
        "   * Promote Fresh Ideas\n",
        "  "
      ],
      "metadata": {
        "id": "Lh2rIbWwF6Ss"
      }
    },
    {
      "cell_type": "markdown",
      "source": [
        "___________"
      ],
      "metadata": {
        "id": "CuenUxB4xrOO"
      }
    },
    {
      "cell_type": "markdown",
      "source": [
        "**Agility:** **Agile versus Efficient**\n",
        "\n",
        "Is Agile Really Inefficient?\n",
        "\n",
        "Can we Really Afford to not be Agile?\n"
      ],
      "metadata": {
        "id": "IqrIgZFDqGct"
      }
    },
    {
      "cell_type": "markdown",
      "source": [
        "**The Triple-A Supply Chain**\n",
        "\n",
        "\n",
        "1. **Agile**. React speedily to sudden changes in demand or supply.\n",
        "2. **Adaptable**. Adapt over time as market structures and strategies evolve.\n",
        "3. **Aligned**. Align interests of every stakeholder involved in the supply network.\n",
        "\n",
        "https://hbr.org/2004/10/the-triple-a-supply-chain\n",
        "\n"
      ],
      "metadata": {
        "id": "1w7MgejQq2-h"
      }
    },
    {
      "cell_type": "markdown",
      "source": [
        "Companies obsession with speed and costs also causes supply chains to break down during the launch of new products."
      ],
      "metadata": {
        "id": "Oucoa_hhtdKs"
      }
    },
    {
      "cell_type": "markdown",
      "source": [
        "Efficient supply chains often become uncompetitive because they don’t adapt to changes in the structures of markets"
      ],
      "metadata": {
        "id": "bLNpqi2Xt4ag"
      }
    },
    {
      "cell_type": "markdown",
      "source": [
        "Supply chain efficiency is necessary, but it isn’t enough to ensure that firms will do better than their rivals. Only those companies that build agile, adaptable, and aligned supply chains get ahead of the competition."
      ],
      "metadata": {
        "id": "TnTKTvj3t5Ul"
      }
    },
    {
      "cell_type": "markdown",
      "source": [
        "Great companies create supply chains that respond to sudden and unexpected changes in markets."
      ],
      "metadata": {
        "id": "3mtKQSpUuQ0g"
      }
    },
    {
      "cell_type": "markdown",
      "source": [
        "Agile supply chains recover quickly from sudden setbacks."
      ],
      "metadata": {
        "id": "C2URgKpOufKM"
      }
    },
    {
      "cell_type": "markdown",
      "source": [
        "**Six rules of agility in Supply Chain**\n",
        "\n",
        "1. Provide data on changes in supply and demand to partners continuosly.\n",
        "2. Develop collaborative relationships with suppliers abd customers to design and redesign processes, components, and products (and prepare backup plans).\n",
        "3. Design products with common parts and processes initially and differ susbtantially only by the end of the production process. (Postponement strategy).\n",
        "4. Keep a small inventory of inexpensive, nonbuly components that are often cause of bottlenecks.\n",
        "5. Build a dependable logistics system that enable your company to regroup quickly in respondse to unexpected needs.\n",
        "6. Put together a team that knows how to invoke backup plans.\n"
      ],
      "metadata": {
        "id": "LXzJHAUQwEmT"
      }
    },
    {
      "cell_type": "markdown",
      "source": [
        "Adaptation can be tough, but it’s critical in developing a supply chain that delivers a sustainable advantage."
      ],
      "metadata": {
        "id": "4ojO55mEza1U"
      }
    },
    {
      "cell_type": "markdown",
      "source": [
        "he best supply chains identify structural shifts, by capturing the latest data, filtering out noise, and tracking key patterns. They then relocate facilities, change sources of supplies, and, if possible, outsource manufacturing."
      ],
      "metadata": {
        "id": "y6lRecna01Q3"
      }
    },
    {
      "cell_type": "markdown",
      "source": [
        "Adaptation needn’t be just a defensive tactic. Companies that adapt supply chains when they modify strategies often succeed in launching new products or breaking into new markets."
      ],
      "metadata": {
        "id": "SVCcqUkt1L9K"
      }
    },
    {
      "cell_type": "markdown",
      "source": [
        "Smart companies tailor supply chains to the nature of markets for products."
      ],
      "metadata": {
        "id": "dltMk8m61fQv"
      }
    },
    {
      "cell_type": "markdown",
      "source": [
        "By mapping either or both of those characteristics to supply chain partners, manufacturing network, and distribution system, companies can develop optimal supply chains for every product or service they offer."
      ],
      "metadata": {
        "id": "6StGBJOw2ro5"
      }
    },
    {
      "cell_type": "markdown",
      "source": [
        "Building an adaptable supply chain requires two key components: the ability to spot trends and the capability to change supply networks. To identify future patterns, it’s necessary to follow some guidelines:\n",
        "\n",
        "* Track economic changes\n",
        "* Decipher the needs of your ultimate consumers\n",
        "\n",
        "At the same time, companies must retain the option to alter supply chains. To do that, they must do two things:\n",
        "\n",
        "* They must develop new suppliers that complement existing ones\n",
        "* They must ensure that product design teams are aware of the supply chain implications of their designs\n",
        "\n",
        "\n",
        "\n"
      ],
      "metadata": {
        "id": "SpyK1gBa2sYN"
      }
    },
    {
      "cell_type": "markdown",
      "source": [
        "What is needed is fresh attitude and a new culture to get their supply chains to deliver triple-A performance. Companies must give up the efficiency mind-set, which is counterproductive; be prepared to keep changing networks; and, instead of looking out for their interests alone, take responsibility for the entire chain"
      ],
      "metadata": {
        "id": "P3Aq-uVq6j8s"
      }
    },
    {
      "cell_type": "markdown",
      "source": [
        "#### **💠Theme 4. The Resilient Supply Chain**"
      ],
      "metadata": {
        "id": "eFxgJhRf73vb"
      }
    },
    {
      "cell_type": "markdown",
      "source": [
        "**Risk: The Resilient Supply Chain**\n",
        "\n",
        "On the one hand it has the ability to resist disruption, and in the other hand the capability to recover quickly.\n",
        "\n",
        "Disruption Timeline\n",
        "\n",
        "Avoid -> Contain -> Stabilize -> Return\n",
        "\n",
        "_________"
      ],
      "metadata": {
        "id": "hRHkjLBz77oS"
      }
    },
    {
      "cell_type": "markdown",
      "source": [
        "**Building a Resilient Supply Chain**\n",
        "\n",
        "https://hbr.org/2007/08/building-a-resilient-supply-ch\n",
        "\n",
        "Threats to the supply chain are present always. No sure way exists for overcoming all such risks, but it is possible to cope better than others with prospect and manifestation of unquantifiable risk. The common trait is *resilience*.\n",
        "\n",
        "Resilience means assume the ability to manage risks with the best position to gain advantage from disruptions.\n",
        "\n",
        "**Achieving Resilience:** It is possible to get resilience by 3 main ways, considering different structures and implications.\n",
        "\n",
        "* **Redundancy.** This is an option to build resilience, but it is not efficient. This way is based on hold extra inventory, maintain low capacity utilization, have many suppliers, etc.\n",
        "\n",
        "* **Flexibility.** To get flexibility, the company should take the following actions:\n",
        "\n",
        "     * **Adopt standardized processes.** Master the ability to replicate production using interchangeable and generic parts in the majority of products, relying on similar or identical plant designs and processes, and cross-training.\n",
        "     * **Use concurrent instead of sequential processes.** Separate processes to control each one and avoid dependency. Execute key activities in parallel to accelerate response and recovery\n",
        "     * **Plan to postpone.** Design products and processes for maximum postponement of as many operations and decisions as possible in the supply chain.\n",
        "     * **Align procurement strategy with supplier relationships.** By knowing each trading partner intimately, a company can better monitor the group to detect potential problems.\n",
        "\n",
        "* **Cultural Change.**\n",
        "\n",
        "     * **Continuous communication among informed employees.** Keep all personnel aware of the strategic goals, tactical factors, and day-by-day pulse of the business.\n",
        "     * **Distributed power.** Teams and individuals are empowered to take necessary actions.\n",
        "     * **Passion for work.** Engender a sense of the greater good in the employees.\n",
        "     * **Conditioning for disruptions.** Normalize disruptions through continuous small-scale operational challenges.\n",
        "\n",
        "The rewards are substantial. It's important not forget to increase competitiveness when disruption arrives.\n",
        "\n",
        "_______________\n"
      ],
      "metadata": {
        "id": "W5gH0NDSbGLP"
      }
    },
    {
      "cell_type": "markdown",
      "source": [
        "**Risk: Supply Chain Risk Factors**\n",
        "\n",
        "**Procurement Risk:**\n",
        "\n",
        "* **Suppliers, Operations and Customers** are affected mainly by these type of factors:\n",
        "   1. Natural\n",
        "   2. Political\n",
        "   3. Process\n",
        "   4. Financial\n",
        "\n",
        "________"
      ],
      "metadata": {
        "id": "JovvKWnlkxSv"
      }
    },
    {
      "cell_type": "markdown",
      "source": [
        "**Risk: Risk versus Efficiency**\n",
        "\n",
        "Where Should the Focues be? In *avoidance* or in *recovery*.\n",
        "\n",
        "**Mitigation:** Insurance -> Flexibility -> Redundancy -> Inventory.\n",
        "\n",
        "_______\n",
        "\n"
      ],
      "metadata": {
        "id": "ZE3Gk0kpsPxf"
      }
    },
    {
      "cell_type": "markdown",
      "source": [
        "**Your Resilient Supply Chain**\n",
        "\n",
        "https://www.apics.org/apics-for-individuals/apics-magazine-home/magazine-detail-page/2011/12/22/your-resilient-supply-chain\n",
        "\n"
      ],
      "metadata": {
        "id": "-Mk5AoVVuajd"
      }
    },
    {
      "cell_type": "markdown",
      "source": [
        "**Summary: Your Resilient Supply Chain (APICS, 2011)**\n",
        "The article outlines a framework for building resilient supply chains—those able to anticipate, absorb, and recover from disruptions.\n",
        "\n",
        "**Key Points:**\n",
        "\n",
        "* **Resilience Phases:**\n",
        "\n",
        "   * **Anticipation:** Risk awareness, visibility, and a strong risk culture.\n",
        "\n",
        "   * **Absorption:** Redundancy in inventory, suppliers, and logistics.\n",
        "\n",
        "   * **Recovery:** Agility, collaboration, and fast response.\n",
        "\n",
        "* **Core Enablers:**\n",
        "\n",
        "   * **Collaboration:** Boosts responsiveness and forecasting accuracy.\n",
        "\n",
        "   * **Redundancy:** Adds buffers to maintain service during shocks.\n",
        "\n",
        "   * **Agility:** Enables quick process and resource adjustments.\n",
        "\n",
        "   * **Visibility:** Transparent flow of information across the network.\n",
        "\n",
        "   * **Robust infrastructure:** Supports continuity and recovery.\n",
        "\n",
        "   * **Managerial Use:** Helps identify gaps, prioritize investment (e.g., in visibility or supplier diversity), and benchmark resilience maturity.\n",
        "\n",
        "A resilient supply chain is proactive, flexible, and data-driven—able to recover stronger after disruptions by design, not by luck."
      ],
      "metadata": {
        "id": "PlliIBB4vhwJ"
      }
    },
    {
      "cell_type": "markdown",
      "source": [
        "### **◽Module 2. Managing Information Flow**"
      ],
      "metadata": {
        "id": "4tTVdplGzGKd"
      }
    },
    {
      "cell_type": "markdown",
      "source": [
        "#### **💠Theme 1. Types of Information Infrastructure**"
      ],
      "metadata": {
        "id": "fAJ68kspzMLs"
      }
    },
    {
      "cell_type": "markdown",
      "source": [
        "**Information Flow Stages**\n",
        "\n",
        "1. Inbound Information Flow\n",
        "2. Internal Information Flow\n",
        "3. Outbound Information Flow\n",
        "\n",
        "_______"
      ],
      "metadata": {
        "id": "SedmOuFdzUBs"
      }
    },
    {
      "cell_type": "markdown",
      "source": [
        "**Information Flow in the Supply Chain**\n",
        "\n",
        "* Orders\n",
        "* Inventory\n",
        "* Forecasts\n",
        "\n",
        "__________\n"
      ],
      "metadata": {
        "id": "P7VAnYcXjXTN"
      }
    },
    {
      "cell_type": "markdown",
      "source": [
        "**Supply Chain IT In action**\n",
        "\n",
        "https://www.pwc.com/us/en/services/consulting/business-transformation/operations-transformation/connected-supply-chain.html\n",
        "\n",
        "Drive value through your supply chain\n",
        "\n",
        "pwc focuses in Logistics, Supply Chain Visibility, Analytics & Automation, Integrated Planning, & Quality.\n",
        "\n",
        "___\n",
        "\n",
        "\n"
      ],
      "metadata": {
        "id": "69iVFW8IkA-8"
      }
    },
    {
      "cell_type": "markdown",
      "source": [
        "**Local information Systems**\n",
        "\n",
        "Work done on a personal computer.\n",
        "\n",
        "**Workflow:**\n",
        "\n",
        "Download information from a database -> Manipulate the data to support decision-making -> Enter decisions into another system.\n",
        "\n",
        "___"
      ],
      "metadata": {
        "id": "cgtUGCwPpqN-"
      }
    },
    {
      "cell_type": "markdown",
      "source": [
        "**Internal Information Systems**\n",
        "\n",
        "**S&OP** (Sales & Operations) Forecasts, Financial Goals, Plant Capacity, Supplier Capacity.\n",
        "\n",
        " * *What are we making and what are we selling?*\n",
        "\n",
        "**MRP** (Material Requirement Planning) Forecasts, Inventory, BOM, MPS.\n",
        "\n",
        " * *What raw materials to buy and in what quantity?*\n",
        "\n",
        "**MPS** (Master Production Schedule) Forecasts, Inventory, BOM, Machin Utilization, Labor Availability.\n",
        "\n",
        " * *What products to make, when, and in what quantity?*\n",
        "\n",
        "**DRP** (Distribution Requirements Planning) Forecasts, Inventory, Production, Storage Capacity, Transport Capacity.\n",
        "\n",
        " * *What products to stock in each warehouse, and in what quantity?*\n",
        "\n",
        "**WMS** (Warehouse Management System) SKUs (Stock Keeping Units), Locations, Orders, Replenishments.\n",
        "\n",
        " * *Where to stock each SKU in the warehouse?*\n",
        "\n",
        "**TMS** (Transportation Management System) Orders, Locations, Resources.\n",
        "\n",
        " * *What shipments, where, and in what order?*\n",
        "\n",
        "____"
      ],
      "metadata": {
        "id": "bVBBKOCHq1fB"
      }
    },
    {
      "cell_type": "markdown",
      "source": [
        "**External Information Systems**\n",
        "\n",
        "* **Order Tracking**\n",
        "\n",
        "* **Inventory Tracking**\n",
        "\n",
        "* **POS** Point Of Sale System. (Cash register function)\n",
        "\n",
        "* **CRM** Customer Relationship Management\n",
        "\n",
        "* **Risk Management**\n",
        "\n",
        "* **CPFR** Collaborative Planning, Forecasting, and Replenishment\n"
      ],
      "metadata": {
        "id": "YO0XAB8Oq7am"
      }
    },
    {
      "cell_type": "markdown",
      "source": [
        "#### **💠Theme 2. Blockchain**"
      ],
      "metadata": {
        "id": "mClLVMYw5zj8"
      }
    },
    {
      "cell_type": "markdown",
      "source": [
        "**Managing Information Flow: Blockchain**\n",
        "\n",
        "What is blockchain?\n",
        "\n",
        "- Distributed ledger systems.\n",
        "- Track changes to the state of data assets.\n",
        "- Consensus validation protocols to approve transactions.\n",
        "- Chaincode that automate flows and exchanges of data (smart contracts).\n",
        "\n",
        "Advantages\n",
        "\n",
        "* Boundary spanning IT system.\n",
        "* Gateway to end-to-end transparency.\n",
        "* Real-time, up-to-date, synchronized data.\n",
        "* Great promise for procurement organizations.\n",
        "\n",
        "Barriers\n",
        "\n",
        "* Maturity of the technology.\n",
        "* Suitability of applications.\n",
        "* Efficiency of updating.\n",
        "* Willingness to chare data.\n",
        "\n",
        "____\n"
      ],
      "metadata": {
        "id": "yeCvFBZ41uXr"
      }
    },
    {
      "cell_type": "markdown",
      "source": [
        "**Blockchain technology for supply chains—A must or a maybe?**\n",
        "\n",
        "https://www.mckinsey.com/capabilities/operations/our-insights/blockchain-technology-for-supply-chainsa-must-or-a-maybe\n",
        "\n",
        "Three areas where it could add value:\n",
        "\n",
        " - Replacing slow, manual processes.\n",
        " - Strengthening traceability\n",
        " - Reducing supply-chain IT transaction costs.\n",
        "____"
      ],
      "metadata": {
        "id": "JpGoAOa71ui-"
      }
    },
    {
      "cell_type": "markdown",
      "source": [
        "**Cryptocurrencies**\n",
        "\n",
        "- Digital asset\n",
        "- Medium of exchange\n",
        "- Strong Cryptograpghy\n",
        "\n",
        "____"
      ],
      "metadata": {
        "id": "el5ZdoNd1uxZ"
      }
    },
    {
      "cell_type": "markdown",
      "source": [
        "**Supply Chain Applications of Blockchain**\n",
        "\n",
        "* **Procurement** *Smart Contracts*\n",
        "\n",
        " * Include terms and conditions\n",
        " * Execution instructions\n",
        " * Process logic\n",
        " * Visibility into multiple tiers\n",
        "\n",
        "* **Manufacturing** *Visibility*\n",
        "\n",
        " * Each asset has an identity\n",
        " * New blocks created as asset moves through the supply chain\n",
        " * Choose which information to attach at each stage\n",
        "\n",
        "* **Logistics** *Track and trace*\n",
        "\n",
        " * Bill of landing\n",
        " * Clear origin of products\n",
        " * Identity of producer\n",
        "\n",
        "____"
      ],
      "metadata": {
        "id": "opC-0PIJ1u2D"
      }
    },
    {
      "cell_type": "markdown",
      "source": [
        "**How Blockchain Will Redefine Supply Chain Management**\n",
        "\n",
        "https://knowledge.wharton.upenn.edu/podcast/knowledge-at-wharton-podcast/blockchain-supply-chain-management/\n",
        "\n",
        "\n",
        "____"
      ],
      "metadata": {
        "id": "83mMgnx4PQCg"
      }
    },
    {
      "cell_type": "markdown",
      "source": [
        "#### **💠Theme 3. AI and Machine Learning**"
      ],
      "metadata": {
        "id": "xnDXISeRmZJQ"
      }
    },
    {
      "cell_type": "markdown",
      "source": [
        "**The Next Frontier in Technology**\n",
        "\n",
        "Managing Information Flow: Artificial Intelligence and Machine Learning\n",
        "\n",
        "What is Artificial Intelligence? Program that is coded to:\n",
        "\\\n",
        "- Reasoning\n",
        "- Knowledge representation\n",
        "- Planning\n",
        "- Learning\n",
        "- Natural language processing\n",
        "- Perception\n",
        "\n",
        "Is a mathematical model based on training data to make predictions or decisions without being explicitly programmed to perform the task.\n",
        "\n",
        "Exist supervised learning, unsupervised learning, feature learning and anomaly detection.\n",
        "\n",
        "\n",
        "\n",
        "\n",
        "\n",
        "____"
      ],
      "metadata": {
        "id": "3LYrO64OPQGz"
      }
    },
    {
      "cell_type": "markdown",
      "source": [
        "**Article: IBM Sterling SC Insights with Watson**\n",
        "\n",
        "https://www.ibm.com/solutions/supply-chain-visibility\n",
        "\n",
        "____"
      ],
      "metadata": {
        "id": "O6kcY85pPQKb"
      }
    },
    {
      "cell_type": "markdown",
      "source": [
        "**Supply Chain Applications of Artificial Intelligence**\n",
        "\n",
        "What is our data? Which systems could be replaced? S&OP, MRP, MPS, DRP, WMS, TMS, CRM\n",
        "\n",
        "____"
      ],
      "metadata": {
        "id": "Rw-2NrR7PQZI"
      }
    },
    {
      "cell_type": "markdown",
      "source": [
        "**Supply Chain Applications of Machine Learning**\n",
        "\n",
        "Data -> Model -> Forecast\n",
        "\n",
        "More automated business decisions in Inventory, Transportation and Warehousing\n",
        "\n",
        "____"
      ],
      "metadata": {
        "id": "BQtOP7FD28gY"
      }
    },
    {
      "cell_type": "markdown",
      "source": [
        "**Future of Artificial Intelligence and Machine Learning in Supply Chains**\n",
        "\n",
        "Levels of Analytics:\n",
        "\n",
        "- Descriptive\n",
        "- Diagnostic\n",
        "- Predictive\n",
        "- Prescriptive\n",
        "- Autonomous\n",
        "____"
      ],
      "metadata": {
        "id": "djHq4xiQ3RbF"
      }
    },
    {
      "cell_type": "markdown",
      "source": [
        "**Article: 20 things to know about AI for SC**\n",
        "\n",
        "https://www.forbes.com/sites/stevebanker/2019/01/01/20-things-to-know-about-artificial-intelligence-for-supply-chain-management/#7cda69753716\n",
        "____"
      ],
      "metadata": {
        "id": "XzwqF8wm4M-8"
      }
    },
    {
      "cell_type": "markdown",
      "source": [
        "### **◽Module 3. Managing Financial Flow**"
      ],
      "metadata": {
        "id": "MItTlZme-HX0"
      }
    },
    {
      "cell_type": "markdown",
      "source": [
        "#### **💠Theme 1. Supply Chain Financing**"
      ],
      "metadata": {
        "id": "jxjqCgga-JHC"
      }
    },
    {
      "cell_type": "markdown",
      "source": [
        "**Financial Flow Stages**\n",
        "\n",
        "1. Inbound Financial Flow (From customer)\n",
        "2. Internal Financial Flow\n",
        "3. Outbound Financial Flow (To suppliers)\n",
        "\n",
        "Product Flow it's 3 -> 2 -> 1\n",
        "\n",
        "\n",
        "_______"
      ],
      "metadata": {
        "id": "4A3EnwM1-Ks9"
      }
    },
    {
      "cell_type": "markdown",
      "source": [
        "**Why Operations and Supply Managers Need to Speak the Language of Business**\n",
        "\n",
        "https://www.thomasnet.com/insights/finance-101-why-operations-and-supply-managers-need-to-speak-the-language-of-business/\n",
        "\n",
        "**The business acumen:**\n",
        "\n",
        "* Understanding your organization strategy, goals and targets.\n",
        "* Knowing how your role aligns with that strategy.\n",
        "* Being able to speak the language of the business. (Accounting, Finance, Economy)\n",
        "\n",
        "**Why talk the language of business as operations manager:**\n",
        "\n",
        "* Influencing Strategic Investments\n",
        "* Understanding the Economic Factors in Decision-Making\n",
        "* Increasing Alignment Between Finance and Operations\n",
        "* Managing Operating Capital\n",
        "* Must-have Financial Knowledge\n",
        "\n",
        "\n",
        "_______"
      ],
      "metadata": {
        "id": "-oC_cRglurDV"
      }
    },
    {
      "cell_type": "markdown",
      "source": [
        "**What is Financial Flow**\n",
        "\n",
        "* **Where does money come from and go?** We pay suppliers, Customers pay us.\n",
        "\n",
        "* **Why does it matter?** To understand Balance Sheet, Income Statement and Cash Flow Statement\n",
        "\n",
        "* **How does SCM contribute to Financial Standing of the Company?**\n",
        "\n",
        "_______"
      ],
      "metadata": {
        "id": "AO1p15LbwL1S"
      }
    },
    {
      "cell_type": "markdown",
      "source": [
        "**Managing the Financial Supply Chain**\n",
        "\n",
        "https://www.industryweek.com/supply-chain/article/21959994/managing-the-financial-supply-chain\n",
        "\n",
        "\"the financial supply chain refers to the transactions that occur between trading partners that facilitate the purchase of, and payment for, goods and services, such as sending purchase orders and invoices, and making payment,\"\n",
        "\n",
        "\n",
        "_______"
      ],
      "metadata": {
        "id": "pupb0Ob1w5qM"
      }
    },
    {
      "cell_type": "markdown",
      "source": [
        "**Supply Chain Financing**\n",
        "\n",
        "Supply chain financing is:\n",
        "\n",
        "1. using the supply chain to fund the organization\n",
        "2. using the organization to fund the supply chain.\n",
        "\n",
        "\n",
        "_______"
      ],
      "metadata": {
        "id": "xyCnZ64Kw5w5"
      }
    },
    {
      "cell_type": "markdown",
      "source": [
        "#### **💠Theme 2. The Financial Statements**"
      ],
      "metadata": {
        "id": "WpvieGIG-ZjJ"
      }
    },
    {
      "cell_type": "markdown",
      "source": [
        "**The 3 Key Financial Statements**\n",
        "\n",
        "1. **The Balance Sheet**\n",
        "  * Also known as: Statement of Financial Position.\n",
        "  * What does it tell us? Financial Condition: Stuff and who owns it. || Assets = Liabailities + Equity\n",
        "\n",
        "2. **The Income Statement**\n",
        "  * Also known as: Profit and loss report (P&L) || Statement of comprehensive income || Statement of revenue & expense\n",
        "  * What does it tell us? Did the firm make any money? || Revenues - Expenses = Earnings\n",
        "\n",
        "3. **The Cash Flow Statement**\n",
        "  * Also known as: Flow of funds statement || Statement of changes in financial position.\n",
        "  * What does it tell us? Where is the money coming from and where is it going? || Sources - Uses = Change in Cash\n",
        "\n",
        "_______"
      ],
      "metadata": {
        "id": "HuhSCyWE-ZjK"
      }
    },
    {
      "cell_type": "markdown",
      "source": [
        "**Beginners' Guide to Financial Statement**\n",
        "\n",
        "https://www.sec.gov/about/reports-publications/investorpubsbegfinstmtguide\n",
        "_______"
      ],
      "metadata": {
        "id": "l0-K8zChDbK_"
      }
    },
    {
      "cell_type": "markdown",
      "source": [
        "**The Balance Sheet**\n",
        "\n",
        "The balance sheet is a financial statement that shows a company’s assets, liabilities, and equity at a specific point in time.\n",
        "\n",
        "Basically, what it owns, what it owes, and the owner's stake.\n",
        "\n",
        "| **Assets**                        | **Liabilities & Equity**            |\n",
        "|-----------------------------------|-------------------------------------|\n",
        "| **Current Assets**                | **Current Liabilities**             |\n",
        "| Cash                              | Accounts Payable                    |\n",
        "| Accounts Receivable               | Accrued Expenses                    |\n",
        "| Inventory                         | Short-term Loans                    |\n",
        "| Prepaid Expenses                  | Taxes Payable                       |\n",
        "| Other Current Assets              | Other Current Liabilities           |\n",
        "| **Total Current Assets**          | **Total Current Liabilities**       |\n",
        "|                                   |                                     |\n",
        "| **Non-Current Assets**            | **Non-Current Liabilities**         |\n",
        "| Property, Plant & Equipment       | Long-term Debt                      |\n",
        "| Accumulated Depreciation          | Deferred Tax Liabilities            |\n",
        "| Intangible Assets (e.g. Goodwill) | Lease Liabilities                   |\n",
        "| Investments                       | Other Non-Current Liabilities       |\n",
        "| Other Non-Current Assets          |                                     |\n",
        "| **Total Non-Current Assets**      | **Total Non-Current Liabilities**   |\n",
        "|                                   |                                     |\n",
        "| **Total Assets**                  | **Total Liabilities**               |\n",
        "|                                   |                                     |\n",
        "|                                   | **Equity**                          |\n",
        "|                                   | Common Stock                        |\n",
        "|                                   | Retained Earnings                   |\n",
        "|                                   | Additional Paid-In Capital          |\n",
        "|                                   | Accumulated Other Comprehensive Inc.|\n",
        "|                                   | Treasury Stock                      |\n",
        "|                                   | **Total Equity**                    |\n",
        "|                                   |                                     |\n",
        "|                                   | **Total Liabilities & Equity**      |\n",
        "\n",
        "The balance sheet is a snapshot of the firm's financial condition.\n",
        "\n",
        "Timing is very important!\n",
        "\n",
        "Look at a photo to catch the growth.\n",
        "_______"
      ],
      "metadata": {
        "id": "neyxbQ6BDbN6"
      }
    },
    {
      "cell_type": "markdown",
      "source": [
        "**Balance Sheet**\n",
        "\n",
        "https://corporatefinanceinstitute.com/resources/accounting/balance-sheet/\n",
        "\n",
        "_______"
      ],
      "metadata": {
        "id": "No_KLg6PDbQ0"
      }
    },
    {
      "cell_type": "markdown",
      "source": [
        "**The Income Statement**\n",
        "\n",
        "An income statement shows a company’s revenues, expenses, and profit or loss over a specific period — basically, how much it earned and spent.\n",
        "\n",
        "| Concepto                  | Amount ($) |\n",
        "|---------------------------|-----------|\n",
        "| Revenue                   | 118.0     |\n",
        "| Cost of Sales             | 87.5      |\n",
        "| **Gross Profit**          | **30.5**  |\n",
        "| SG&A                      | 10.3      |\n",
        "| **Operating Profit (EBIT)** | **20.2**  |\n",
        "| Interest Expense, net     | 7.7       |\n",
        "| **Pretax Income**         | **12.5**  |\n",
        "| Income Taxes              | 5.4       |\n",
        "| **Net Income**            | **7.1**   |\n",
        "\n",
        "Net Income: The shareholders owns it.\n",
        "\n",
        "What to do with the Net Income? Pay dividends, Share Repurchases, Retain Earnings.\n",
        "\n",
        "_______"
      ],
      "metadata": {
        "id": "-xOLAe2GI0eL"
      }
    },
    {
      "cell_type": "markdown",
      "source": [
        "**Information Statement**\n",
        "\n",
        "https://corporatefinanceinstitute.com/resources/accounting/income-statement/\n",
        "\n",
        "_______"
      ],
      "metadata": {
        "id": "A6tPjy28I0jN"
      }
    },
    {
      "cell_type": "markdown",
      "source": [
        "**The Cash Flow Statement**\n",
        "\n",
        "* A record of the sources and uses of cash during an accounting period.\n",
        "* Reconciles the Balance Sheet and Income Statements.\n",
        "* What happens with the cash account?\n",
        "\n",
        "Earnings are fine, but CASH IS KING! This is not about having cash, but having ACCESS to.\n",
        "\n",
        "This is a cash flow statement — it shows how cash moves in and out of a company through operations, investments, and financing. It explains why cash increased or decreased during a specific period.\n",
        "\n",
        "| **Cash Flow Statement**         | **Amount ($)** |\n",
        "|---------------------------------|----------------|\n",
        "| **Operating Activities**        |                |\n",
        "| Net Income                      | 7.1            |\n",
        "| Depreciation                    | 2.5            |\n",
        "| Amortization                    | 2.0            |\n",
        "| Change in Working Capital       | (1.5)          |\n",
        "| **Net Operating Activities**    | **10.1**       |\n",
        "|                                 |                |\n",
        "| **Investing Activities**        |                |\n",
        "| Capital Expenditures            | (40.0)         |\n",
        "| Acquisitions                    | 0.0            |\n",
        "| **Net Investing Activities**    | **(40.0)**     |\n",
        "|                                 |                |\n",
        "| **Financing Activities**        |                |\n",
        "| New Borrowings, net             | 5.0            |\n",
        "| Equity Issued                   | 0.0            |\n",
        "| **Net Financing Activities**    | **5.0**        |\n",
        "|                                 |                |\n",
        "| **Change in Cash**              | **(11.1)**     |\n",
        "\n",
        "\n",
        "**Sources of Cash - Uses of Cash = Change in Cash**\n",
        "\n",
        "\n",
        "_______"
      ],
      "metadata": {
        "id": "MYPmKV6DI0qq"
      }
    },
    {
      "cell_type": "markdown",
      "source": [
        "**Sources and Uses of Funds**\n",
        "\n",
        "https://corporatefinanceinstitute.com/resources/financial-modeling/sources-and-uses-of-cash/\n",
        "\n",
        "_______"
      ],
      "metadata": {
        "id": "2FM8UziFI0uS"
      }
    },
    {
      "cell_type": "markdown",
      "source": [
        "#### **💠Theme 3. Cash Conversion Cycle**"
      ],
      "metadata": {
        "id": "qnhiF-h4-ZwX"
      }
    },
    {
      "cell_type": "markdown",
      "source": [
        "**The Cash Conversion Cycle**\n",
        "\n",
        "XXX\n",
        "\n",
        "_______"
      ],
      "metadata": {
        "id": "_FdunlWd-ZwX"
      }
    },
    {
      "cell_type": "markdown",
      "source": [
        "**A Look at the Cash Conversion Cycle**\n",
        "\n",
        "XXX\n",
        "\n",
        "_______"
      ],
      "metadata": {
        "id": "a5dnEYTTM6oV"
      }
    },
    {
      "cell_type": "markdown",
      "source": [
        "**Calculate the CCC**\n",
        "\n",
        "XXX\n",
        "\n",
        "_______"
      ],
      "metadata": {
        "id": "JXxzFQ2qM6sP"
      }
    },
    {
      "cell_type": "markdown",
      "source": [
        "**CCC Benchmarking**\n",
        "\n",
        "XXX\n",
        "\n",
        "_______"
      ],
      "metadata": {
        "id": "gIyXVV9HM6vL"
      }
    },
    {
      "cell_type": "markdown",
      "source": [
        "**How Has Apple's Cash Conversion Cycle Changed Over The Years?**\n",
        "\n",
        "https://www.forbes.com/sites/greatspeculations/2018/08/30/how-has-apples-cash-conversion-cycle-changed-over-the-years/#7ed72b66cea3\n",
        "_______"
      ],
      "metadata": {
        "id": "0P63WHMRM6zU"
      }
    },
    {
      "cell_type": "markdown",
      "source": [
        "## **Course 2. Sourcing Excellence**"
      ],
      "metadata": {
        "id": "cqIcStXq4hQX"
      }
    },
    {
      "cell_type": "markdown",
      "source": [
        "## **Course 3. Operations Excellence**"
      ],
      "metadata": {
        "id": "3Vwj35eC4hVq"
      }
    },
    {
      "cell_type": "markdown",
      "source": [
        "## **Course 4. Logistics Excellence**"
      ],
      "metadata": {
        "id": "IwqupV_Y4hah"
      }
    },
    {
      "cell_type": "markdown",
      "source": [
        "## **Course 5. Supply Chain Excellence Capstone**"
      ],
      "metadata": {
        "id": "Xp0_N6Oj4uGY"
      }
    }
  ]
}