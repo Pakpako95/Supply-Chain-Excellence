{
  "nbformat": 4,
  "nbformat_minor": 0,
  "metadata": {
    "colab": {
      "provenance": [],
      "collapsed_sections": [
        "OywETxXr43I6"
      ],
      "authorship_tag": "ABX9TyMj7MbIx+A7h5NkhwXE8jhM",
      "include_colab_link": true
    },
    "kernelspec": {
      "name": "python3",
      "display_name": "Python 3"
    },
    "language_info": {
      "name": "python"
    }
  },
  "cells": [
    {
      "cell_type": "markdown",
      "metadata": {
        "id": "view-in-github",
        "colab_type": "text"
      },
      "source": [
        "<a href=\"https://colab.research.google.com/github/Pakpako95/Supply-Chain-Excellence/blob/main/SupplyChainExcellence.ipynb\" target=\"_parent\"><img src=\"https://colab.research.google.com/assets/colab-badge.svg\" alt=\"Open In Colab\"/></a>"
      ]
    },
    {
      "cell_type": "markdown",
      "source": [
        "## **Supply Chain Excellence Specialization**"
      ],
      "metadata": {
        "id": "QQQ9CTBL4QEJ"
      }
    },
    {
      "cell_type": "markdown",
      "source": [
        "### **Course 1. Supply Chain Excellence**"
      ],
      "metadata": {
        "id": "KcQF9cPV4Vjr"
      }
    },
    {
      "cell_type": "markdown",
      "source": [
        "#### **Theme 1. The Flow of Products in the Supply Chain**"
      ],
      "metadata": {
        "id": "OywETxXr43I6"
      }
    },
    {
      "cell_type": "markdown",
      "source": [
        "The Primary Flows in Supply Chain are: Information, Finances & Products."
      ],
      "metadata": {
        "id": "LNP2RXNV5BHw"
      }
    },
    {
      "cell_type": "markdown",
      "source": [
        "**Product Flow Goals: Efficiency**\n",
        "\n",
        "Transforming the Product to its final form with the minimum amount of resources necessary.\n",
        "\n",
        "* Supply Chain = Transformation\n",
        "* Resources (Finances, Materials, Labor, Equipment).\n",
        "\n",
        "\n"
      ],
      "metadata": {
        "id": "NlHGE2ko5o8C"
      }
    },
    {
      "cell_type": "markdown",
      "source": [
        "**End-to-End Efficiency**\n",
        "\n",
        "* It is a long race... you must pace yourself.\n",
        "* Think outside the box (The whole supply chain matters).\n",
        "* You can only really control your company.\n",
        "\n"
      ],
      "metadata": {
        "id": "Bm0GkZJh7mMu"
      }
    },
    {
      "cell_type": "markdown",
      "source": [
        "**How to Achieve Efficiency?**\n",
        "\n",
        "1. **Define:** How would you measure efficiency in your supply chain?\n",
        "2. **Measure:** Identify metrics that can illustrate supply chain efficiency.\n",
        "3. **Analyze:** Look for improvements\n",
        "4. **Implement:** Make changes to your SC.\n",
        "5. **Control:** Ensure the improvements are stable."
      ],
      "metadata": {
        "id": "wNolegTj78gW"
      }
    },
    {
      "cell_type": "markdown",
      "source": [
        "**Product Flow Goals: Flexibility**\n",
        "\n",
        "* The ability to react and respond to unanticipated changes in customer demand.\n",
        "* Important: customer demand is always uncertain.\n",
        "* Flexibility as a competitive advantage.\n"
      ],
      "metadata": {
        "id": "jDNtw2p68qqn"
      }
    },
    {
      "cell_type": "markdown",
      "source": [
        "**How to Achieve Flexibility**\n",
        "\n",
        "1. Speed.\n",
        "2. Interchangeability.\n",
        "3. Design.\n",
        "\n"
      ],
      "metadata": {
        "id": "GBoDK81V9Jv7"
      }
    },
    {
      "cell_type": "markdown",
      "source": [
        "**Product Flow Goals: Resilience**"
      ],
      "metadata": {
        "id": "XSi7Os2w8lUG"
      }
    },
    {
      "cell_type": "markdown",
      "source": [
        "The Resilient Supply Chain\n",
        "\n",
        "A resilient Supply Chain is one that can confront risks.\n",
        "\n",
        "* The ability to withstand disruptions to the supply chain.\n",
        "* 2 Factors:\n",
        "\n",
        " - Impact of Disruption to be noticed.\n",
        " - Ability to Recover.\n",
        "\n",
        "* Main Supply Chain Design consideration.\n",
        "\n"
      ],
      "metadata": {
        "id": "SRIiiBdFH1mc"
      }
    },
    {
      "cell_type": "markdown",
      "source": [
        "#### **Theme 2. The Lean Supply Chain**"
      ],
      "metadata": {
        "id": "qqnonWucKUxn"
      }
    },
    {
      "cell_type": "markdown",
      "source": [
        "**Lean Principles: Overview**\n",
        "\n",
        "**1. Jidoka:**\n",
        "   * Error proofing\n",
        "   * In-station quality\n",
        "   * Root Cause\n",
        "\n",
        "**2. Heijunka (Stability):**\n",
        "   * Production Leveling\n",
        "   * Synchronize supply chain\n",
        "\n",
        "**3. Hoishin Planning:**\n",
        "   * Customer Focus\n",
        "   * Standardization\n",
        "\n",
        "**4. JIT:**\n",
        "   * Continuous Flow\n",
        "   * Pull System\n",
        "   * Quick Changeover"
      ],
      "metadata": {
        "id": "b6sTNkZoKjij"
      }
    },
    {
      "cell_type": "markdown",
      "source": [
        "Lean follows the rythm of the customer.\n",
        "\n",
        "The only sure thing about forecasts is that they are wrong."
      ],
      "metadata": {
        "id": "7mYaMzSJOPJV"
      }
    },
    {
      "cell_type": "markdown",
      "source": [
        "**Lean Thinking Reading by Womak and Jones**\n",
        "\n",
        "**LEAN THINKING: Banish Waste and Create Wealth in Your Corporation.**"
      ],
      "metadata": {
        "id": "Uj8yxPimVnBZ"
      }
    },
    {
      "cell_type": "markdown",
      "source": [
        "Ther is a better way to organize and manage customer relations, supply chain, product development and production operations.\n",
        "\n",
        "This is labeled like lean production because it does more and more with less and less."
      ],
      "metadata": {
        "id": "h6qNu0uAVvHF"
      }
    },
    {
      "cell_type": "markdown",
      "source": [
        "**Lean thinking can be summarized in five principles:**\n",
        "\n",
        "1. Precisely specify value by specific product.\n",
        "2. Identify the value stream for each product.\n",
        "3. Make value flow without interruptions.\n",
        "4. Let customer pull value from the producer.\n",
        "5. Pursue perfection.\n",
        "\n"
      ],
      "metadata": {
        "id": "UHzEIe5DWOaB"
      }
    },
    {
      "cell_type": "markdown",
      "source": [
        "**Lean Thinking versus Muda**\n",
        "\n",
        "Muda means Waste. Waste is any human activity which absorbs resources but creates no value. Taiichi Ohno identified the first seven types of muda:\n",
        "\n",
        "* **T** - Transportation\n",
        "* **I** - Inventory\n",
        "* **M** - Motion\n",
        "* **W** - Waits\n",
        "* **O** - Overproduction\n",
        "* **O** - Overprocessing\n",
        "* **D** - Defects\n",
        "* **S** - Skills\n",
        "\n",
        "Antidote to muda: lean thinking. Lean provides a way to do more with less. Less human effort, less equipment, less time, while coming closer to providing customers with exactly what they want.\n",
        "\n",
        "Lean Thinking also provides a way to work more satisfying by providing immediate feeedback on efforts to convert muda into value. It provides a way to create new work rather than simply destroy jobs.\n",
        "\n"
      ],
      "metadata": {
        "id": "F7Amld0elUAW"
      }
    },
    {
      "cell_type": "markdown",
      "source": [
        "**Lean Principles: The Seven Wastes**"
      ],
      "metadata": {
        "id": "llDyRDKn7kuA"
      }
    },
    {
      "cell_type": "markdown",
      "source": [
        "1. **Overproduction**\n",
        "2. **Inventory**\n",
        "3. **Motion**\n",
        "4. **Defects**\n",
        "5. **Over-processing**\n",
        "6. **Waiting**\n",
        "7. **Transport**"
      ],
      "metadata": {
        "id": "dS8Nsc4H7q1f"
      }
    },
    {
      "cell_type": "markdown",
      "source": [
        "**Lean Principles: Just In Time**"
      ],
      "metadata": {
        "id": "0P66cQBg8VMI"
      }
    },
    {
      "cell_type": "markdown",
      "source": [
        "**Just-in-Time**\n",
        "\n",
        "| **Issue**              | **Traditional**        | **Just-in-Time**      |\n",
        "|:----------------------:|:----------------------:|:---------------------:|\n",
        "| *Inventory*            | ‘Appropriate’          | Waste                 |\n",
        "| *Lead Time*            | ‘Appropriate’          | Minimal               |\n",
        "| *Batch Size*           | Optimized (EOQ)        | Ideally One           |\n",
        "| *Quality*              | ‘Acceptable’ Level     | Perfection            |\n",
        "| *Planning*             | Push                   | Pull                  |\n",
        "| *Optimization Focus*   | Each unit              | Entire system         |\n",
        "| *Focus*                | Economies of Scale     | System Efficiency     |\n"
      ],
      "metadata": {
        "id": "eAolY7At8YQs"
      }
    },
    {
      "cell_type": "markdown",
      "source": [
        "**Lean Principles: Jidoka (error proofing)**"
      ],
      "metadata": {
        "id": "o5wjT8Pw-31R"
      }
    },
    {
      "cell_type": "markdown",
      "source": [
        "You build your entire system designed to avoid human error.\n",
        "\n",
        "* Integrate quality within each process.\n",
        "* Detect abnormal condition.\n",
        "* Immediately stop work and fix it.\n",
        "* Make it impossible to install the wrong parts."
      ],
      "metadata": {
        "id": "ZuRsdYfJ_cSn"
      }
    },
    {
      "cell_type": "markdown",
      "source": [
        "#### **Theme 3. The Agile Supply Chain**"
      ],
      "metadata": {
        "id": "RC817-ixBuUr"
      }
    },
    {
      "cell_type": "markdown",
      "source": [
        "**Agility: The Agile Supply Chain**\n",
        "\n",
        "* Speed\n",
        "* Flexibility\n",
        "* Experimentation"
      ],
      "metadata": {
        "id": "Sofd6QEfBx4F"
      }
    },
    {
      "cell_type": "markdown",
      "source": [
        "**Zara's Supply Chain**"
      ],
      "metadata": {
        "id": "CXRiOybwCCPi"
      }
    },
    {
      "cell_type": "markdown",
      "source": [
        "Traditional Supply Chain Manager looks to gain visibility to create a framework through which purchasing decisions can be made. The primary tool is the rulebook, and decisions must be made in accordance with procurement policy, any deviation will be penalized. This conducts to make inflexible and brittle supply chain, slow to adapt and easily affected by alterations in demand and/or supply.\n",
        "\n",
        "Some tips to build an agile supply chain:\n",
        "\n",
        "1. **Build an agile team.** Agile method is aligned to customer needs prioritizing fast output, not processes and frameworks.\n",
        "\n",
        "2. **Reward efficiency - and tolerate failure.** Experimentation is the heart of agility, experiment only arises from the courage to risk. Not focus on comfort. \"Move fast and break things\"\n",
        "\n",
        "3. **Build agile and smart supplier contracts**\n",
        "\n",
        "\n"
      ],
      "metadata": {
        "id": "l0u-L5X1Cz8V"
      }
    },
    {
      "cell_type": "markdown",
      "source": [
        "**Agility: Implement Agility**"
      ],
      "metadata": {
        "id": "qIo4NtQ7Fg5L"
      }
    },
    {
      "cell_type": "markdown",
      "source": [
        "**Implement Speed**\n",
        "1. **Source**\n",
        "   * Faster Sourcing\n",
        "   * Reduce Wait Time\n",
        "2. **Make**\n",
        "   * Faster Manufacturing\n",
        "   * Reduce Wait Time\n",
        "3. **Deliver**\n",
        "   * Fast Deliveries\n",
        "   * Reduce Wait Time"
      ],
      "metadata": {
        "id": "UV8R4pkdFlTk"
      }
    },
    {
      "cell_type": "markdown",
      "source": [
        "**Implement Flexibility**\n",
        "\n",
        "\n",
        "| **Teams**        |                         |\n",
        "|------------------|-------------------------|\n",
        "| →                | Short Runs              |\n",
        "| →                | Focus on Speed          |\n",
        "| →                | Cross Training          |\n",
        "| →                | Changeovers             |\n"
      ],
      "metadata": {
        "id": "9Q6t25elGD7R"
      }
    },
    {
      "cell_type": "markdown",
      "source": [
        "**Implement Experimentation**"
      ],
      "metadata": {
        "id": "vLGZut7wGqCg"
      }
    },
    {
      "cell_type": "markdown",
      "source": [
        "1. Strive for Efficiency (while accepting Speed and Flexibility)\n",
        "   * Do More with Less\n",
        "   * Refine Processes\n",
        "2. Tolerate Failure\n",
        "   * Encourage Process Improvement\n",
        "   * Reward Creativity\n",
        "3. Culture of Innovation\n",
        "   * Promote Fresh Ideas\n",
        "  "
      ],
      "metadata": {
        "id": "Lh2rIbWwF6Ss"
      }
    },
    {
      "cell_type": "markdown",
      "source": [
        "### **Course 2. Sourcing Excellence**"
      ],
      "metadata": {
        "id": "cqIcStXq4hQX"
      }
    },
    {
      "cell_type": "markdown",
      "source": [
        "### **Course 3. Operations Excellence**"
      ],
      "metadata": {
        "id": "3Vwj35eC4hVq"
      }
    },
    {
      "cell_type": "markdown",
      "source": [
        "### **Course 4. Logistics Excellence**"
      ],
      "metadata": {
        "id": "IwqupV_Y4hah"
      }
    },
    {
      "cell_type": "markdown",
      "source": [
        "### **Course 5. Supply Chain Excellence Capstone**"
      ],
      "metadata": {
        "id": "Xp0_N6Oj4uGY"
      }
    }
  ]
}